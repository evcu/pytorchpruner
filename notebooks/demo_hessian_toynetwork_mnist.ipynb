{
 "cells": [
  {
   "cell_type": "markdown",
   "metadata": {},
   "source": [
    "## Native Hv Product in pyTorch Test\n",
    "Purpose:\n",
    "- Demonstrate hessian calculation of a layer through `pytorchpruner.utils.hessian_fun`.\n",
    "- Compare it with recent package of  [Mario's](`https://github.com/antigol`) [Time difference is because of the preloaded data and he updated the package and reported that now it is 4 times faster.\n"
   ]
  },
  {
   "cell_type": "code",
   "execution_count": 1,
   "metadata": {
    "collapsed": true
   },
   "outputs": [],
   "source": [
    "import torch\n",
    "import os\n",
    "import sys\n",
    "sys.path.insert(0, '../')\n",
    "\n",
    "import pytorchpruner\n",
    "\n",
    "use_cuda = torch.cuda.is_available()"
   ]
  },
  {
   "cell_type": "code",
   "execution_count": 2,
   "metadata": {
    "collapsed": true
   },
   "outputs": [],
   "source": [
    "from torch.utils.data import DataLoader\n",
    "import torchvision.transforms as transforms\n",
    "from torchvision import datasets\n",
    "import random \n",
    "\n",
    "test_batch = 128\n",
    "train_batch = 32\n",
    "\n",
    "train_MNIST_data_full = datasets.MNIST('./data', train=True, download=True,\n",
    "                   transform=transforms.Compose([\n",
    "                       transforms.ToTensor(),\n",
    "                       transforms.Normalize((0.1307,), (0.3081,))     \n",
    "                   ]))\n",
    "\n",
    "train_dataset=list(train_MNIST_data_full)[:train_batch]\n",
    "\n",
    "random.seed(5)\n",
    "torch.set_default_tensor_type('torch.FloatTensor')\n",
    "\n",
    "\n",
    "trainloader = torch.utils.data.DataLoader(\n",
    "    train_dataset, batch_size=train_batch, shuffle=True)\n",
    "testloader = torch.utils.data.DataLoader(\n",
    "    datasets.MNIST('./data', train=False, transform=transforms.Compose([\n",
    "                       transforms.ToTensor(),\n",
    "                       transforms.Normalize((0.1307,), (0.3081,)),\n",
    "                   ])),\n",
    "    batch_size=test_batch, shuffle=False)"
   ]
  },
  {
   "cell_type": "code",
   "execution_count": 18,
   "metadata": {
    "collapsed": true
   },
   "outputs": [],
   "source": [
    "from torch import nn\n",
    "import torch.nn.functional as F\n",
    "\n",
    "class Net(nn.Module):\n",
    "    def __init__(self):\n",
    "        super(Net, self).__init__()\n",
    "        self.conv1 = nn.Conv2d(1, 2, kernel_size=5)\n",
    "        self.conv2 = nn.Conv2d(2, 1, kernel_size=5)\n",
    "        self.fc1 = nn.Linear(16, 2)\n",
    "        self.fc2 = nn.Linear(2, 10)\n",
    "        self.nonlins = {'conv1':('max_relu',(2,2)),'conv2':('max_relu',(2,2)),'fc1':'relu','fc2':'log_softmax'}\n",
    "\n",
    "    def forward(self, x):\n",
    "        x = F.relu(F.max_pool2d(self.conv1(x), 2))\n",
    "        x = F.relu(F.max_pool2d(self.conv2(x), 2))\n",
    "        x = x.view(-1, 16)\n",
    "        x = F.relu(self.fc1(x))\n",
    "        x = self.fc2(x)\n",
    "        return F.log_softmax(x,dim=1)\n"
   ]
  },
  {
   "cell_type": "code",
   "execution_count": 4,
   "metadata": {},
   "outputs": [
    {
     "name": "stdout",
     "output_type": "stream",
     "text": [
      "CPU times: user 1.82 s, sys: 157 ms, total: 1.98 s\n",
      "Wall time: 1.07 s\n",
      "torch.Size([167, 167])\n"
     ]
    }
   ],
   "source": [
    "from torch.nn import CrossEntropyLoss\n",
    "from torch.optim import Adam\n",
    "from torch.autograd import Variable\n",
    "from pytorchpruner.utils import hessian_fun\n",
    "\n",
    "\n",
    "x,y = list(trainloader)[0]\n",
    "if use_cuda: #TODO test it\n",
    "    x, y = x.cuda(), y.cuda()\n",
    "x, y = Variable(x), Variable(y)\n",
    "\n",
    "model = Net()\n",
    "criterion = CrossEntropyLoss()\n",
    "optimizer = Adam(model.parameters(), lr=1e-3)\n",
    "optimizer.zero_grad()\n",
    "output = model(x)\n",
    "loss = criterion(output, y)\n",
    "# print(flat_par)\n",
    "%time hess = hessian_fun(loss,model.parameters(),flattened=True)\n",
    "print(hess.size())\n"
   ]
  },
  {
   "cell_type": "markdown",
   "metadata": {},
   "source": [
    "## Mario's lib\n",
    "https://github.com/antigol/hessian_pytorch/blob/master/examples/mnist_full_hessian.py"
   ]
  },
  {
   "cell_type": "code",
   "execution_count": 5,
   "metadata": {},
   "outputs": [
    {
     "name": "stdout",
     "output_type": "stream",
     "text": [
      "CPU times: user 7.51 s, sys: 3.48 s, total: 11 s\n",
      "Wall time: 7.08 s\n"
     ]
    }
   ],
   "source": [
    "from hessian_pytorch import full_hessian\n",
    "import numpy as np\n",
    "\n",
    "def compute_hessian(model, dataset):\n",
    "    def loss_function(batch):\n",
    "        model.eval()  # disable dropout\n",
    "        data, target = batch\n",
    "        if torch.cuda.is_available():\n",
    "            data, target = data.cuda(), target.cuda()\n",
    "        data, target = Variable(data), Variable(target)\n",
    "\n",
    "        output = model(data)\n",
    "        loss = F.nll_loss(output, target, size_average=False) / len(dataset)\n",
    "        return loss\n",
    "\n",
    "    loader = torch.utils.data.DataLoader(dataset, batch_size=1000, shuffle=False, num_workers=1)\n",
    "    parameters = [p for p in model.parameters() if p.requires_grad]\n",
    "    hessian = full_hessian(loss_function, loader, parameters)\n",
    "    return hessian\n",
    "    \n",
    "%time hess2 = compute_hessian(model, train_dataset)"
   ]
  },
  {
   "cell_type": "code",
   "execution_count": 6,
   "metadata": {},
   "outputs": [
    {
     "name": "stdout",
     "output_type": "stream",
     "text": [
      "6.930403878868674e-05\n"
     ]
    }
   ],
   "source": [
    "print((hess2-hess).abs().sum())\n"
   ]
  }
 ],
 "metadata": {
  "kernelspec": {
   "display_name": "Python 3",
   "language": "python",
   "name": "python3"
  },
  "language_info": {
   "codemirror_mode": {
    "name": "ipython",
    "version": 3
   },
   "file_extension": ".py",
   "mimetype": "text/x-python",
   "name": "python",
   "nbconvert_exporter": "python",
   "pygments_lexer": "ipython3",
   "version": "3.6.3"
  }
 },
 "nbformat": 4,
 "nbformat_minor": 2
}
