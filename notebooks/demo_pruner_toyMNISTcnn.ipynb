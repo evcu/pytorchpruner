{
 "cells": [
  {
   "cell_type": "markdown",
   "metadata": {},
   "source": [
    "## pytorch Pruner Demo\n",
    "Purpose:\n",
    "- Demonstrate the pruners.BasePruner module with modules.MaskedModule"
   ]
  },
  {
   "cell_type": "code",
   "execution_count": 5,
   "metadata": {
    "collapsed": true
   },
   "outputs": [],
   "source": [
    "import sys\n",
    "sys.path.insert(0,'../')\n",
    "from pytorchpruner.modules import MaskedModule\n",
    "from pytorchpruner.pruners import BasePruner"
   ]
  },
  {
   "cell_type": "markdown",
   "metadata": {},
   "source": [
    "## a Toy CNN\n",
    "Let's define a toy CNN"
   ]
  },
  {
   "cell_type": "code",
   "execution_count": 21,
   "metadata": {
    "collapsed": true
   },
   "outputs": [],
   "source": [
    "import torch\n",
    "import torch.nn as nn\n",
    "import torch.nn.functional as F\n",
    "from torch.autograd import Variable\n",
    "\n",
    "class Net(nn.Module):\n",
    "    def __init__(self):\n",
    "        super(Net, self).__init__()\n",
    "        self.conv1 = nn.Conv2d(1, 8, kernel_size=5)\n",
    "        self.conv2 = nn.Conv2d(8,16, kernel_size=5)\n",
    "        self.fc1 = nn.Linear(256, 64)\n",
    "        self.fc2 = nn.Linear(64, 10)\n",
    "        self.nonlins = {'conv1':('max_relu',(2,2)),'conv2':('max_relu',(2,2)),'fc1':'relu','fc2':'log_softmax'}\n",
    "\n",
    "    def forward(self, x):\n",
    "        x = F.relu(F.max_pool2d(self.conv1(x), 2))\n",
    "        x = F.relu(F.max_pool2d(self.conv2(x), 2))\n",
    "        x = x.view(-1, 256)\n",
    "        x = F.relu(self.fc1(x))\n",
    "        x = self.fc2(x)\n",
    "        return F.log_softmax(x,dim=1)\n",
    "\n",
    "def weight_init(m):\n",
    "    if isinstance(m,(torch.nn.Conv2d,torch.nn.Linear)):\n",
    "        nn.init.xavier_uniform(m.weight)"
   ]
  },
  {
   "cell_type": "markdown",
   "metadata": {},
   "source": [
    "## Masked module and Pruner\n",
    "Masked module is needed Pruner to work on the network. This can be done explicitly or implicitly."
   ]
  },
  {
   "cell_type": "code",
   "execution_count": 22,
   "metadata": {
    "collapsed": true
   },
   "outputs": [],
   "source": [
    "model = MaskedModule(Net())\n",
    "# model = Net() #implicit MaskedModel(model) is called during initilization\n",
    "pruner = BasePruner(model)\n",
    "#dummy batch sample\n",
    "x=Variable(torch.Tensor(32,1,28,28)) #mnist batch\n",
    "y=Variable((torch.ones(32)).long())"
   ]
  },
  {
   "cell_type": "code",
   "execution_count": 23,
   "metadata": {},
   "outputs": [
    {
     "name": "stdout",
     "output_type": "stream",
     "text": [
      "Variable containing:\n",
      "-2.3978\n",
      "-2.3298\n",
      "-2.1738\n",
      "-2.3781\n",
      "-2.2667\n",
      "-2.4077\n",
      "-2.2205\n",
      "-2.1774\n",
      "-2.3512\n",
      "-2.3596\n",
      "[torch.FloatTensor of size 10]\n",
      "\n",
      "Variable containing:\n",
      "(0 ,.,.) = \n",
      " -0.1216  0.0017  0.0447  0.0141 -0.1600\n",
      "  0.0304 -0.1724  0.0179  0.1675 -0.0229\n",
      " -0.1923  0.1447 -0.1297  0.0304  0.0879\n",
      " -0.1815  0.0625  0.1408  0.0132 -0.0177\n",
      "  0.1821  0.0707  0.1053 -0.0330  0.0306\n",
      "[torch.FloatTensor of size 1x5x5]\n",
      "\n",
      "Variable containing:\n",
      "-2.3958\n",
      "-2.3270\n",
      "-2.1862\n",
      "-2.3798\n",
      "-2.2650\n",
      "-2.3988\n",
      "-2.2199\n",
      "-2.1820\n",
      "-2.3522\n",
      "-2.3523\n",
      "[torch.FloatTensor of size 10]\n",
      "\n",
      "Variable containing:\n",
      "(0 ,.,.) = \n",
      " -0.1216  0.0000  0.0000  0.0000 -0.1600\n",
      "  0.0000 -0.1724  0.0000  0.1675  0.0000\n",
      " -0.1923  0.1447 -0.1297  0.0000  0.0000\n",
      " -0.1815  0.0000  0.1408  0.0000  0.0000\n",
      "  0.1821  0.0000  0.1053  0.0000  0.0000\n",
      "[torch.FloatTensor of size 1x5x5]\n",
      "\n",
      "\n",
      "(0 ,.,.) = \n",
      "  1  0  0  0  1\n",
      "  0  1  0  1  0\n",
      "  1  1  1  0  0\n",
      "  1  0  1  0  0\n",
      "  1  0  1  0  0\n",
      "[torch.ByteTensor of size 1x5x5]\n",
      "\n"
     ]
    }
   ],
   "source": [
    "#Before and after pruning\n",
    "print(model(x)[0])\n",
    "print(pruner.masked_model.module.conv1.weight[0])\n",
    "pruner.prune(0.5)\n",
    "print(model(x)[0])\n",
    "print(model.module.conv1.weight[0])\n",
    "## Printing the mask tensor of the first conv layer\n",
    "print(model._mask_dict[model.module.conv1][0])\n"
   ]
  },
  {
   "cell_type": "code",
   "execution_count": 24,
   "metadata": {},
   "outputs": [
    {
     "name": "stdout",
     "output_type": "stream",
     "text": [
      "Variable containing:\n",
      "(0 ,.,.) = \n",
      "  0  0  0  0  0\n",
      "  0  0  0  0  0\n",
      "  0  0  0  0  0\n",
      "  0  0  0  0  0\n",
      "  0  0  0  0  0\n",
      "[torch.FloatTensor of size 1x5x5]\n",
      "\n",
      "Variable containing:\n",
      "(0 ,.,.) = \n",
      "  0  0  0  0  0\n",
      "  0  0  0  0  0\n",
      "  0  0  0  0  0\n",
      "  0  0  0  0  0\n",
      "  0  0  0  0  0\n",
      "[torch.FloatTensor of size 1x5x5]\n",
      "\n"
     ]
    }
   ],
   "source": [
    "#applying mask on gradients\n",
    "output = model(x)\n",
    "loss = F.nll_loss(output, y)\n",
    "loss.backward()\n",
    "print(model.module.conv1.weight.grad[0])\n",
    "model.apply_mask_on_gradients()\n",
    "print(model.module.conv1.weight.grad[0])"
   ]
  },
  {
   "cell_type": "markdown",
   "metadata": {},
   "source": [
    "## Saving and loading maskedModule\n"
   ]
  },
  {
   "cell_type": "code",
   "execution_count": 10,
   "metadata": {},
   "outputs": [
    {
     "name": "stdout",
     "output_type": "stream",
     "text": [
      "MaskedModule(\n",
      "  (module): Net(\n",
      "    (conv1): Conv2d (1, 8, kernel_size=(5, 5), stride=(1, 1))\n",
      "    (conv2): Conv2d (8, 16, kernel_size=(5, 5), stride=(1, 1))\n",
      "    (fc1): Linear(in_features=256, out_features=64)\n",
      "    (fc2): Linear(in_features=64, out_features=10)\n",
      "  )\n",
      ")\n",
      "\n",
      "(0 ,.,.) = \n",
      "  0  1  1  1  0\n",
      "  1  1  0  0  1\n",
      "  1  1  1  0  1\n",
      "  0  1  1  1  0\n",
      "  1  0  0  0  0\n",
      "[torch.ByteTensor of size 1x5x5]\n",
      "\n"
     ]
    },
    {
     "name": "stderr",
     "output_type": "stream",
     "text": [
      "/Users/evcu/anaconda3/lib/python3.6/site-packages/torch/serialization.py:158: UserWarning: Couldn't retrieve source code for container of type Net. It won't be checked for correctness upon loading.\n",
      "  \"type \" + obj.__name__ + \". It won't be checked \"\n"
     ]
    }
   ],
   "source": [
    "torch.save(model,'test.mod')\n",
    "model2 = torch.load('test.mod')\n",
    "print(model2)\n",
    "print(model2._mask_dict[model2.module.conv1][0])"
   ]
  }
 ],
 "metadata": {
  "kernelspec": {
   "display_name": "Python 3",
   "language": "python",
   "name": "python3"
  },
  "language_info": {
   "codemirror_mode": {
    "name": "ipython",
    "version": 3
   },
   "file_extension": ".py",
   "mimetype": "text/x-python",
   "name": "python",
   "nbconvert_exporter": "python",
   "pygments_lexer": "ipython3",
   "version": "3.6.3"
  }
 },
 "nbformat": 4,
 "nbformat_minor": 2
}
